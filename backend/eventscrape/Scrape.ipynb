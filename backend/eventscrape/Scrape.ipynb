{
 "cells": [
  {
   "cell_type": "markdown",
   "metadata": {},
   "source": [
    "# Scrape SBB"
   ]
  },
  {
   "cell_type": "code",
   "execution_count": 105,
   "metadata": {},
   "outputs": [],
   "source": [
    "from bs4 import BeautifulSoup\n",
    "import requests\n",
    "import ast\n",
    "import json\n",
    "import pandas as pd\n",
    "import numpy as np\n",
    "from tqdm import tqdm\n",
    "import time\n",
    "import sqlite3"
   ]
  },
  {
   "cell_type": "code",
   "execution_count": 107,
   "metadata": {},
   "outputs": [],
   "source": [
    "def create_connection(db_file):\n",
    "    \"\"\" create a database connection to a SQLite database \"\"\"\n",
    "    conn = None\n",
    "    try:\n",
    "        conn = sqlite3.connect(db_file)\n",
    "        print(sqlite3.version)\n",
    "    except Error as e:\n",
    "        print(e)\n",
    "    finally:\n",
    "        if conn:\n",
    "            conn.close()"
   ]
  },
  {
   "cell_type": "code",
   "execution_count": 109,
   "metadata": {},
   "outputs": [
    {
     "name": "stdout",
     "output_type": "stream",
     "text": [
      "2.6.0\n"
     ]
    }
   ],
   "source": [
    "create_connection('./events.db')"
   ]
  },
  {
   "cell_type": "code",
   "execution_count": 110,
   "metadata": {},
   "outputs": [],
   "source": [
    "conn = sqlite3.connect(\"./events.db\")\n",
    "cur = conn.cursor()"
   ]
  },
  {
   "cell_type": "markdown",
   "metadata": {},
   "source": [
    "## Category Scrape"
   ]
  },
  {
   "cell_type": "code",
   "execution_count": 111,
   "metadata": {},
   "outputs": [],
   "source": [
    "sbb_categories = {\n",
    "    'Bahn_&_Schiff': 'SBB_lh_rail_boat',\n",
    "    'Spiel_&_Spass': 'SBB_lh_games_fun',\n",
    "    'Berge_&_Aussicht': 'SBB_lh_mountains_views',\n",
    "    'Erlebnis_&_Panoramareisen' : 'SBB_lh_adventure_panorama_trips',\n",
    "    'Natur_&_Sehenswürdigkeiten' : 'SBB_lh_nature_sights_of_interest',\n",
    "    'Zoos_&_Tierparks' : 'SBB_lh_zoo_animal_parks',\n",
    "    'Velo_&_Bike' : 'SBB_lh_bike_ebike',\n",
    "    'Wellness_&_Erholung' : 'SBB_lh_wellness_relaxation',\n",
    "    'Wandern' : 'SBB_lh_hiking',\n",
    "    'Kunst_Kultur_&_Museen' : 'SBB_lh_art_culture_museums',\n",
    "    'Messen_&_Volksfeste' : 'SBB_lh_trade_fairs_folk_festivals',\n",
    "    'Konzerte_&_Musicals' : 'SBB_lh_concerts_musicals_festivals',\n",
    "    'Sportveranstalungen' : 'SBB_lh_sports_events',\n",
    "    'Märkte_&_Shopping' : 'SBB_lh_markets_shopping',\n",
    "    'Kurztrips' : 'SBB_lh_short_trips_in_switzerland',\n",
    "    'Städtereisen' : 'SBB_lh_city_trips',\n",
    "    'Familienausfluege' : 'SBB_lh_family_excursions',\n",
    "    'Schlusausfluege' : 'SBB_lh_school_excursions',\n",
    "    'Gruppenausfluege' : 'SBB_lh_group_excursions'\n",
    "}\n",
    "values = sbb_categories.keys()\n",
    "index = [sbb_categories[k] for k in sbb_categories.keys()]\n",
    "categories_df = pd.DataFrame.from_dict({'index': index})\n",
    "categories_df['category_ger'] = categories_df['index'].apply(lambda x: list(sbb_categories.keys())[list(sbb_categories.values()).index(x)])"
   ]
  },
  {
   "cell_type": "code",
   "execution_count": 112,
   "metadata": {},
   "outputs": [],
   "source": [
    "categories_df.to_sql('categories', con=conn, if_exists='append')"
   ]
  },
  {
   "cell_type": "code",
   "execution_count": null,
   "metadata": {},
   "outputs": [],
   "source": []
  },
  {
   "cell_type": "code",
   "execution_count": 104,
   "metadata": {},
   "outputs": [
    {
     "name": "stdout",
     "output_type": "stream",
     "text": [
      "SBB_lh_rail_boat\n",
      "SBB_lh_games_fun\n",
      "SBB_lh_mountains_views\n",
      "SBB_lh_adventure_panorama_trips\n",
      "SBB_lh_nature_sights_of_interest\n",
      "SBB_lh_zoo_animal_parks\n",
      "SBB_lh_bike_ebike\n",
      "SBB_lh_wellness_relaxation\n",
      "SBB_lh_hiking\n",
      "SBB_lh_art_culture_museums\n",
      "SBB_lh_trade_fairs_folk_festivals\n",
      "SBB_lh_concerts_musicals_festivals\n",
      "SBB_lh_sports_events\n",
      "SBB_lh_markets_shopping\n",
      "SBB_lh_short_trips_in_switzerland\n",
      "SBB_lh_city_trips\n",
      "SBB_lh_family_excursions\n",
      "SBB_lh_school_excursions\n",
      "SBB_lh_group_excursions\n"
     ]
    }
   ],
   "source": [
    "for category in categories_df['index']:\n",
    "    print(category)"
   ]
  },
  {
   "cell_type": "code",
   "execution_count": null,
   "metadata": {},
   "outputs": [],
   "source": []
  },
  {
   "cell_type": "code",
   "execution_count": 103,
   "metadata": {},
   "outputs": [],
   "source": [
    "categories_page = 'https://www.sbb.ch/de/freizeit-ferien/ideen.html?'"
   ]
  },
  {
   "cell_type": "code",
   "execution_count": 66,
   "metadata": {},
   "outputs": [],
   "source": [
    "r  = requests.get(ideen_page)\n",
    "\n",
    "soup = BeautifulSoup(r.text, 'html.parser')"
   ]
  },
  {
   "cell_type": "code",
   "execution_count": 67,
   "metadata": {},
   "outputs": [],
   "source": [
    "divs = soup.findAll(\"div\", {\"class\": \"mod_map\"})\n",
    "\n",
    "map_markers = json.loads(divs[0]['data-mapboxmap-options'])\n",
    "\n",
    "events = map_markers['markers']"
   ]
  },
  {
   "cell_type": "code",
   "execution_count": 68,
   "metadata": {},
   "outputs": [
    {
     "data": {
      "text/plain": [
       "597"
      ]
     },
     "execution_count": 68,
     "metadata": {},
     "output_type": "execute_result"
    }
   ],
   "source": []
  },
  {
   "cell_type": "raw",
   "metadata": {},
   "source": [
    "page = 'https://www.sbb.ch/en/leisure-holidays/ideas.html?SBB_lh_rail_boat=on&SBB_lh_games_fun=on&SBB_lh_mountains_views=on&SBB_lh_adventure_panorama_trips=on&SBB_lh_nature_sights_of_interest=on&SBB_lh_zoo_animal_parks=on&SBB_lh_bike_ebike=on&SBB_lh_wellness_relaxation=on&SBB_lh_hiking=on&SBB_lh_art_culture_museums=on&SBB_lh_trade_fairs_folk_festivals=on&SBB_lh_concerts_musicals_festivals=on&SBB_lh_sports_events=on&SBB_lh_markets_shopping=on&SBB_lh_short_trips_in_switzerland=on&SBB_lh_city_trips=on&SBB_lh_family_excursions=on&SBB_lh_school_excursions=on&SBB_lh_group_excursions=on'\n",
    "ideen_page = 'https://www.sbb.ch/de/freizeit-ferien/ideen.html?SBB_lh_rail_boat=on&SBB_lh_games_fun=on&SBB_lh_mountains_views=on&SBB_lh_adventure_panorama_trips=on&SBB_lh_nature_sights_of_interest=on&SBB_lh_zoo_animal_parks=on&SBB_lh_bike_ebike=on&SBB_lh_wellness_relaxation=on&SBB_lh_hiking=on&SBB_lh_art_culture_museums=on&SBB_lh_trade_fairs_folk_festivals=on&SBB_lh_concerts_musicals_festivals=on&SBB_lh_sports_events=on&SBB_lh_markets_shopping=on&SBB_lh_short_trips_in_switzerland=on&SBB_lh_city_trips=on&SBB_lh_family_excursions=on&SBB_lh_school_excursions=on&SBB_lh_group_excursions=on'"
   ]
  },
  {
   "cell_type": "code",
   "execution_count": 59,
   "metadata": {},
   "outputs": [
    {
     "name": "stderr",
     "output_type": "stream",
     "text": [
      "\n",
      "\n",
      "  0%|          | 0/601 [00:00<?, ?it/s]\u001b[A\u001b[A\n",
      "\n",
      "  0%|          | 1/601 [00:01<10:17,  1.03s/it]\u001b[A\u001b[A\n",
      "\n",
      "  0%|          | 2/601 [00:02<11:45,  1.18s/it]\u001b[A\u001b[A\n",
      "\n",
      "  0%|          | 3/601 [01:18<3:54:10, 23.50s/it]\u001b[A\u001b[A\n",
      "\n",
      "  1%|          | 4/601 [01:18<2:45:46, 16.66s/it]\u001b[A\u001b[A\n",
      "\n",
      "  1%|          | 5/601 [01:19<1:58:13, 11.90s/it]\u001b[A\u001b[A\n",
      "\n",
      "  1%|          | 6/601 [01:20<1:25:22,  8.61s/it]\u001b[A\u001b[A\n",
      "\n",
      "  1%|          | 7/601 [01:21<1:01:39,  6.23s/it]\u001b[A\u001b[A\n",
      "\n",
      "  1%|▏         | 8/601 [01:21<45:08,  4.57s/it]  \u001b[A\u001b[A\n",
      "\n",
      "  1%|▏         | 9/601 [01:22<33:38,  3.41s/it]\u001b[A\u001b[A\n",
      "\n",
      "  2%|▏         | 10/601 [01:23<25:31,  2.59s/it]\u001b[A\u001b[A\n",
      "\n",
      "  2%|▏         | 11/601 [01:24<19:53,  2.02s/it]\u001b[A\u001b[A\n",
      "\n",
      "  2%|▏         | 12/601 [01:24<16:12,  1.65s/it]\u001b[A\u001b[A\n",
      "\n",
      "  2%|▏         | 13/601 [01:25<13:27,  1.37s/it]\u001b[A\u001b[A\n",
      "\n",
      "  2%|▏         | 14/601 [01:26<11:36,  1.19s/it]\u001b[A\u001b[A\n",
      "\n",
      "  2%|▏         | 15/601 [01:26<10:13,  1.05s/it]\u001b[A\u001b[A\n",
      "\n",
      "  3%|▎         | 16/601 [01:27<09:47,  1.00s/it]\u001b[A\u001b[A\n",
      "\n",
      "  3%|▎         | 17/601 [01:28<08:52,  1.10it/s]\u001b[A\u001b[A\n",
      "\n",
      "  3%|▎         | 18/601 [01:29<08:23,  1.16it/s]\u001b[A\u001b[A\n",
      "\n",
      "  3%|▎         | 19/601 [01:30<07:58,  1.22it/s]\u001b[A\u001b[A\n",
      "\n",
      "  3%|▎         | 20/601 [01:30<07:45,  1.25it/s]\u001b[A\u001b[A\n",
      "\n",
      "  3%|▎         | 21/601 [01:31<07:37,  1.27it/s]\u001b[A\u001b[A\n",
      "\n",
      "  4%|▎         | 22/601 [01:32<07:21,  1.31it/s]\u001b[A\u001b[A\n",
      "\n",
      "  4%|▍         | 23/601 [01:33<07:16,  1.33it/s]\u001b[A\u001b[A\n",
      "\n",
      "  4%|▍         | 24/601 [01:33<07:11,  1.34it/s]\u001b[A\u001b[A\n",
      "\n",
      "  4%|▍         | 25/601 [01:34<08:31,  1.13it/s]\u001b[A\u001b[A\n",
      "\n",
      "  4%|▍         | 26/601 [01:35<08:08,  1.18it/s]\u001b[A\u001b[A\n",
      "\n",
      "  4%|▍         | 27/601 [01:36<07:44,  1.24it/s]\u001b[A\u001b[A\n",
      "\n",
      "  5%|▍         | 28/601 [01:37<07:27,  1.28it/s]\u001b[A\u001b[A\n",
      "\n",
      "  5%|▍         | 29/601 [01:37<07:15,  1.31it/s]\u001b[A\u001b[A\n",
      "\n",
      "  5%|▍         | 30/601 [01:38<07:42,  1.24it/s]\u001b[A\u001b[A\n",
      "\n",
      "  5%|▌         | 31/601 [01:39<07:29,  1.27it/s]\u001b[A\u001b[A\n",
      "\n",
      "  5%|▌         | 32/601 [01:40<07:29,  1.27it/s]\u001b[A\u001b[A\n",
      "\n",
      "  5%|▌         | 33/601 [01:41<07:19,  1.29it/s]\u001b[A\u001b[A\n",
      "\n",
      "  6%|▌         | 34/601 [01:41<07:22,  1.28it/s]\u001b[A\u001b[A\n",
      "\n",
      "  6%|▌         | 35/601 [01:42<07:39,  1.23it/s]\u001b[A\u001b[A\n",
      "\n",
      "  6%|▌         | 36/601 [01:43<07:27,  1.26it/s]\u001b[A\u001b[A\n",
      "\n",
      "  6%|▌         | 37/601 [01:44<07:23,  1.27it/s]\u001b[A\u001b[A\n",
      "\n",
      "  6%|▋         | 38/601 [01:45<07:18,  1.28it/s]\u001b[A\u001b[A\n",
      "\n",
      "  6%|▋         | 39/601 [01:46<08:10,  1.15it/s]\u001b[A\u001b[A\n",
      "\n",
      "  7%|▋         | 40/601 [01:46<07:49,  1.20it/s]\u001b[A\u001b[A\n",
      "\n",
      "  7%|▋         | 41/601 [01:47<07:37,  1.22it/s]\u001b[A\u001b[A\n",
      "\n",
      "  7%|▋         | 42/601 [01:48<07:19,  1.27it/s]\u001b[A\u001b[A\n",
      "\n",
      "  7%|▋         | 43/601 [01:49<07:06,  1.31it/s]\u001b[A\u001b[A\n",
      "\n",
      "  7%|▋         | 44/601 [01:51<13:01,  1.40s/it]\u001b[A\u001b[A\n",
      "\n",
      "  7%|▋         | 45/601 [01:52<11:06,  1.20s/it]\u001b[A\u001b[A\n",
      "\n",
      "  8%|▊         | 46/601 [01:53<09:48,  1.06s/it]\u001b[A\u001b[A\n",
      "\n",
      "  8%|▊         | 47/601 [01:54<08:56,  1.03it/s]\u001b[A\u001b[A\n",
      "\n",
      "  8%|▊         | 48/601 [01:54<08:17,  1.11it/s]\u001b[A\u001b[A\n",
      "\n",
      "  8%|▊         | 49/601 [01:55<08:03,  1.14it/s]\u001b[A\u001b[A\n",
      "\n",
      "  8%|▊         | 50/601 [01:56<07:37,  1.20it/s]\u001b[A\u001b[A\n",
      "\n",
      "  8%|▊         | 51/601 [01:57<07:15,  1.26it/s]\u001b[A\u001b[A\n",
      "\n",
      "  9%|▊         | 52/601 [01:57<07:03,  1.30it/s]\u001b[A\u001b[A\n",
      "\n",
      "  9%|▉         | 53/601 [01:58<06:59,  1.31it/s]\u001b[A\u001b[A\n",
      "\n",
      "  9%|▉         | 54/601 [01:59<06:55,  1.32it/s]\u001b[A\u001b[A\n",
      "\n",
      "  9%|▉         | 55/601 [02:00<06:53,  1.32it/s]\u001b[A\u001b[A\n",
      "\n",
      "  9%|▉         | 56/601 [02:00<06:54,  1.31it/s]\u001b[A\u001b[A\n",
      "\n",
      "  9%|▉         | 57/601 [02:01<06:55,  1.31it/s]\u001b[A\u001b[A\n",
      "\n",
      " 10%|▉         | 58/601 [02:02<06:50,  1.32it/s]\u001b[A\u001b[A\n",
      "\n",
      " 10%|▉         | 59/601 [02:03<06:59,  1.29it/s]\u001b[A\u001b[A\n",
      "\n",
      " 10%|▉         | 60/601 [02:04<07:02,  1.28it/s]\u001b[A\u001b[A\n",
      "\n",
      " 10%|█         | 61/601 [02:04<07:05,  1.27it/s]\u001b[A\u001b[A\n",
      "\n",
      " 10%|█         | 62/601 [02:05<07:15,  1.24it/s]\u001b[A\u001b[A\n",
      "\n",
      " 10%|█         | 63/601 [02:06<07:09,  1.25it/s]\u001b[A\u001b[A\n",
      "\n",
      " 11%|█         | 64/601 [02:07<06:56,  1.29it/s]\u001b[A\u001b[A\n",
      "\n",
      " 11%|█         | 65/601 [02:07<06:49,  1.31it/s]\u001b[A\u001b[A"
     ]
    },
    {
     "ename": "KeyboardInterrupt",
     "evalue": "",
     "output_type": "error",
     "traceback": [
      "\u001b[0;31m---------------------------------------------------------------------------\u001b[0m",
      "\u001b[0;31mKeyboardInterrupt\u001b[0m                         Traceback (most recent call last)",
      "\u001b[0;32m<ipython-input-59-f94bab79ffad>\u001b[0m in \u001b[0;36m<module>\u001b[0;34m\u001b[0m\n\u001b[1;32m     14\u001b[0m \u001b[0;34m\u001b[0m\u001b[0m\n\u001b[1;32m     15\u001b[0m     \u001b[0mevent_df\u001b[0m \u001b[0;34m=\u001b[0m \u001b[0mevent_df\u001b[0m\u001b[0;34m.\u001b[0m\u001b[0mappend\u001b[0m\u001b[0;34m(\u001b[0m\u001b[0midea\u001b[0m\u001b[0;34m,\u001b[0m \u001b[0mignore_index\u001b[0m\u001b[0;34m=\u001b[0m\u001b[0;32mTrue\u001b[0m\u001b[0;34m)\u001b[0m\u001b[0;34m\u001b[0m\u001b[0;34m\u001b[0m\u001b[0m\n\u001b[0;32m---> 16\u001b[0;31m     \u001b[0mtime\u001b[0m\u001b[0;34m.\u001b[0m\u001b[0msleep\u001b[0m\u001b[0;34m(\u001b[0m\u001b[0;36m0.5\u001b[0m\u001b[0;34m)\u001b[0m\u001b[0;34m\u001b[0m\u001b[0;34m\u001b[0m\u001b[0m\n\u001b[0m",
      "\u001b[0;31mKeyboardInterrupt\u001b[0m: "
     ]
    }
   ],
   "source": [
    "event_df = pd.DataFrame(columns = ['id', 'title', 'subtitle', 'lat', 'lng', 'teaserUrl'])\n",
    "\n",
    "for idea in tqdm(events):\n",
    "    \n",
    "    r = requests.get('https://www.sbb.ch' + idea['teaserUrl'],headers={\"User-Agent\":\"Mozilla/5.0\"})\n",
    "\n",
    "    event_soup = BeautifulSoup(r.text, 'html.parser')\n",
    "    \n",
    "    #extract (sub-)title\n",
    "    res = event_soup.findAll('a')\n",
    "    idea['title'] = res[0].text.replace('\\t','').replace('\\n','').strip()\n",
    "    idea['subtitle'] = res[0].text.replace('\\t','').replace('\\n','').replace('Zum Angebot.', '').strip()\n",
    "\n",
    "    \n",
    "    event_df = event_df.append(idea, ignore_index=True)\n",
    "    time.sleep(0.5)"
   ]
  },
  {
   "cell_type": "code",
   "execution_count": null,
   "metadata": {},
   "outputs": [],
   "source": [
    "from bs4 import BeautifulSoup\n",
    "\n",
    "import requests\n",
    "\n",
    "url = raw_input(\"Enter a website to extract the URL's from: \")\n",
    "\n",
    "r  = requests.get(\"http://\" +url)\n",
    "\n",
    "data = r.text\n",
    "\n",
    "soup = BeautifulSoup(data)\n",
    "\n",
    "for link in soup.find_all('a'):\n",
    "    print(link.get('href'))"
   ]
  }
 ],
 "metadata": {
  "kernelspec": {
   "display_name": "Python 3",
   "language": "python",
   "name": "python3"
  },
  "language_info": {
   "codemirror_mode": {
    "name": "ipython",
    "version": 3
   },
   "file_extension": ".py",
   "mimetype": "text/x-python",
   "name": "python",
   "nbconvert_exporter": "python",
   "pygments_lexer": "ipython3",
   "version": "3.7.3"
  }
 },
 "nbformat": 4,
 "nbformat_minor": 4
}
